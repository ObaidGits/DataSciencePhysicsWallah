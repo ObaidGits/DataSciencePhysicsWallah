{
 "cells": [
  {
   "cell_type": "code",
   "execution_count": 1,
   "id": "e32bb6fd-ecda-4511-87fc-bd2f6c755629",
   "metadata": {},
   "outputs": [
    {
     "name": "stdout",
     "output_type": "stream",
     "text": [
      "Hello!\n",
      "Hello, Obaidullah!\n"
     ]
    }
   ],
   "source": [
    "# Q1. What is the difference between a function and a method in Python?\n",
    "'''Ans. In Python, a function is a block of code that performs a specific task and can be called independently.\n",
    "Functions are defined using the def keyword and can exist outside of any class.\n",
    "A method, on the other hand, is a function that is associated with an object and defined within a class.\n",
    "Methods operate on the data (attributes) of the object and often modify the object's state.'''\n",
    "#Code Example:-\n",
    "# Function\n",
    "def greet():\n",
    "    return \"Hello!\"\n",
    "\n",
    "# Method\n",
    "class Person:\n",
    "    def __init__(self, name):\n",
    "        self.name = name\n",
    "    \n",
    "    def greet(self):\n",
    "        return f\"Hello, {self.name}!\"\n",
    "\n",
    "# Calling function\n",
    "print(greet())  # Output: Hello!\n",
    "\n",
    "# Calling method\n",
    "p = Person(\"Obaidullah\")\n",
    "print(p.greet())  # Output: Hello, Obaidullah!\n"
   ]
  },
  {
   "cell_type": "code",
   "execution_count": 2,
   "id": "d9c691d0-3184-4854-87c7-229b86bc8a9f",
   "metadata": {},
   "outputs": [
    {
     "data": {
      "text/plain": [
       "'Hello, Obaidullah!'"
      ]
     },
     "execution_count": 2,
     "metadata": {},
     "output_type": "execute_result"
    }
   ],
   "source": [
    "# Q2. Explain the concept of function arguments and parameters in Python.\n",
    "''' Ans. In Python, parameters are variables defined in a function's signature that act as placeholders for the data the function will process.\n",
    "Arguments are the actual values or data passed to the function when it's called.\n",
    "In short, parameters are the names listed in the function definition, while arguments are the values you supply during a function call. '''\n",
    "#Code Example :-\n",
    "def greet(name):  # 'name' is a parameter\n",
    "    return f\"Hello, {name}!\"\n",
    "\n",
    "greet(\"Obaidullah\")  # \"Obaidullah\" is the argument passed"
   ]
  },
  {
   "cell_type": "code",
   "execution_count": 3,
   "id": "31aec400-d499-4aaa-8fee-d6c04dee7805",
   "metadata": {},
   "outputs": [
    {
     "name": "stdout",
     "output_type": "stream",
     "text": [
      "Hello, Obaidullah! This is Standard Function.\n",
      "Hello, Obaidullah, This is Function with parameters.!\n",
      "Hello, Obaidullah, This is Lambda function.!\n"
     ]
    }
   ],
   "source": [
    "# Q3. What are the different ways to define and call a function in Python?\n",
    "''' Ans. In Python, functions can be defined and called in several ways:\n",
    "i. Standard function: Defined using the def keyword and called by its name.\n",
    "ii . Function with parameters: You can define functions with parameters and pass arguments when calling them.\n",
    "iii . Lambda function: An anonymous, one-line function defined with the lambda keyword.'''\n",
    "#Code Example (Standard Function) :-\n",
    "def greet():\n",
    "    return \"Hello, Obaidullah! This is Standard Function.\"\n",
    "print(greet())  # Calling the function\n",
    "\n",
    "#Code Example (Function with parameters) :-\n",
    "def greet(name):\n",
    "    return f\"Hello, {name}!\"\n",
    "print(greet(\"Obaidullah, This is Function with parameters.\"))  # Calling with argument\n",
    "\n",
    "#Code Example (Lambda function) :-\n",
    "greet = lambda name: f\"Hello, {name}!\"\n",
    "print(greet(\"Obaidullah, This is Lambda function.\"))  # Calling lambda function"
   ]
  },
  {
   "cell_type": "code",
   "execution_count": 4,
   "id": "653b2e7c-723e-4483-87a0-43a50d10a2fe",
   "metadata": {},
   "outputs": [
    {
     "name": "stdout",
     "output_type": "stream",
     "text": [
      "7\n"
     ]
    }
   ],
   "source": [
    "# Q4. What is the purpose of the `return` statement in a Python function?\n",
    "''' Ans . The return statement in a Python function is used to exit the function and send back a value or result to the caller.\n",
    "It terminates the function’s execution and allows the value specified after return to be used outside the function.\n",
    "If no return statement is present, the function returns None by default. '''\n",
    "#Code Example :-\n",
    "def add(a, b):\n",
    "    return a + b  # The result is returned to the caller\n",
    "\n",
    "result = add(3, 4)\n",
    "print(result)  # Output: 7"
   ]
  },
  {
   "cell_type": "code",
   "execution_count": 5,
   "id": "6be607c3-a828-41bb-afc7-d187ec42c61d",
   "metadata": {},
   "outputs": [
    {
     "name": "stdout",
     "output_type": "stream",
     "text": [
      "1\n",
      "2\n"
     ]
    }
   ],
   "source": [
    "# Q5. What are iterators in Python and how do they differ from iterables?\n",
    "''' Ans. In Python, an iterable is any object capable of returning its members one at a time, such as lists, tuples, and strings.\n",
    "An iterator is an object that represents a stream of data, allowing you to traverse through all the elements in an iterable.\n",
    "Iterators are created using the iter() function and produce values one at a time with the next() function.\n",
    "Difference:\n",
    "Iterable: Can be looped over (e.g., list, string) but doesn't maintain state.\n",
    "Iterator: Is a special object with a __next__() method that returns elements one by one and remembers the position of the current element. '''\n",
    "#Code Example :-\n",
    "numbers = [1, 2, 3]  # Iterable\n",
    "iterator = iter(numbers)  # Create an iterator\n",
    "\n",
    "print(next(iterator))  # Output: 1\n",
    "print(next(iterator))  # Output: 2"
   ]
  },
  {
   "cell_type": "code",
   "execution_count": 6,
   "id": "61bf12dc-bb7b-49dd-a8d8-730d06e2273b",
   "metadata": {},
   "outputs": [
    {
     "name": "stdout",
     "output_type": "stream",
     "text": [
      "5\n",
      "4\n",
      "3\n",
      "2\n",
      "1\n"
     ]
    }
   ],
   "source": [
    "# Q6. Explain the concept of generators in Python and how they are defined.\n",
    "''' Ans. Generators in Python are a type of iterable, defined using a function that yields values instead of returning them.\n",
    "They allow you to iterate through a sequence of values without storing the entire sequence in memory,\n",
    "which makes them memory-efficient for large datasets. Generators are defined using the def keyword along with the yield statement,\n",
    "which produces a value and suspends the function’s execution, allowing it to resume later from the same point. '''\n",
    "#Code Example :-\n",
    "def countdown(n):\n",
    "    while n > 0:\n",
    "        yield n  # Yield the current value of n\n",
    "        n -= 1\n",
    "\n",
    "# Using the generator\n",
    "for num in countdown(5):\n",
    "    print(num)  # Output: 5, 4, 3, 2, 1"
   ]
  },
  {
   "cell_type": "code",
   "execution_count": 7,
   "id": "7c004f5b-f3b6-4cc9-b6ec-da1b2d3f7f50",
   "metadata": {},
   "outputs": [
    {
     "name": "stdout",
     "output_type": "stream",
     "text": [
      "0\n",
      "1\n",
      "1\n",
      "2\n",
      "3\n",
      "5\n",
      "8\n",
      "13\n",
      "21\n",
      "34\n"
     ]
    }
   ],
   "source": [
    "# Q7. What are the advantages of using generators over regular functions?\n",
    "''' Ans. Generators offer several advantages over regular functions:\n",
    "Memory Efficiency: Generators yield one item at a time and do not store the entire dataset in memory. This is particularly useful for working with large data sets, as it reduces memory consumption.\n",
    "Lazy Evaluation: Generators compute values on-the-fly, only when requested. This can lead to performance improvements, especially in cases where not all values are needed at once.\n",
    "Simplified Code: Generators can simplify the code for producing sequences of data. Using yield allows for cleaner and more readable code compared to maintaining the state manually in regular functions.\n",
    "State Preservation: Generators maintain their state between calls, which makes it easy to create iterators that can pause and resume their execution without needing additional data structures.\n",
    "Infinite Sequences: Generators can model infinite sequences, such as producing an endless stream of numbers, since they only generate values as needed, avoiding the limitations of fixed-size data structures. '''\n",
    "#Code Example :-\n",
    "def fibonacci():\n",
    "    a, b = 0, 1\n",
    "    while True:\n",
    "        yield a  # Yield the next Fibonacci number\n",
    "        a, b = b, a + b\n",
    "\n",
    "# Using the generator\n",
    "fib = fibonacci()\n",
    "for _ in range(10):\n",
    "    print(next(fib))  # Output: First 10 Fibonacci numbers\n"
   ]
  },
  {
   "cell_type": "markdown",
   "id": "6e4af4ed-909a-41fe-a580-0096eb0e89b6",
   "metadata": {},
   "source": [
    "##### Q8. What is a lambda function in Python and when is it typically used?\n",
    "''' Ans. A lambda function in Python is an anonymous, small, and lightweight function defined using the lambda keyword.\n",
    "It can take any number of arguments but can only have one expression, which it evaluates and returns.\n",
    "Lambda functions are typically used for short, throwaway functions that are not meant to be reused, making them convenient for use in\n",
    "contexts like functional programming, sorting, and data manipulation.\n",
    "Common Use Cases:\n",
    "As arguments to higher-order functions: Used as a quick way to define a function for functions like map(), filter(), or sorted().\n",
    "In event handling or callbacks: Used in GUI programming or asynchronous code where a simple function is needed without a full function definition.\n",
    "In places where function objects are required: Such as when defining a key function for sorting or comparing.'''"
   ]
  },
  {
   "cell_type": "markdown",
   "id": "e933c0e3-ee34-460f-a901-98c75db408e5",
   "metadata": {},
   "source": [
    "##### Q9. Explain the purpose and usage of the `map()` function in Python.\n",
    "''' Ans. The map() function in Python is a built-in function used to apply a specified function to each item of an iterable (such as a list, tuple, or string) and return a map object (an iterator). The primary purpose of map() is to transform data by applying a function to every element in the given iterable, which can lead to more concise and readable code.\n",
    "Usage:\n",
    "Syntax: map(function, iterable, ...)\n",
    "The function can be a regular function or a lambda function, and the iterable can be one or more sequences. If multiple iterables are provided, the function must take as many arguments as there are iterables. '''"
   ]
  },
  {
   "cell_type": "markdown",
   "id": "c563d576-22aa-4535-b1c6-e6a725be7922",
   "metadata": {},
   "source": [
    "##### Q10. What is the difference between `map()`, `reduce()`, and `filter()` functions in Python?\n",
    "''' Ans . In Python, map(), reduce(), and filter() are all higher-order functions used for processing iterables, but they serve different purposes:\n",
    "i. map():\n",
    "Purpose: Applies a given function to each item in an iterable and returns a map object (an iterator) containing the results.\n",
    "Usage: Ideal for transforming or modifying data in a sequence.\n",
    "\n",
    "ii. filter():\n",
    "Purpose: Filters elements from an iterable based on a specified function that returns True or False, returning an iterator containing only the elements for which the function returns True.\n",
    "Usage: Useful for selecting a subset of items from a sequence based on a condition.\n",
    "\n",
    "iii. reduce():\n",
    "Purpose: Applies a specified function cumulatively to the items of an iterable, reducing it to a single cumulative value. It is not a built-in function in Python 3, so you need to import it from the functools module.\n",
    "Usage: Often used for aggregation operations (e.g., summing or multiplying all items)."
   ]
  },
  {
   "cell_type": "code",
   "execution_count": 19,
   "id": "b67a925b-2deb-4d39-a7fd-fafbba1f190c",
   "metadata": {},
   "outputs": [],
   "source": [
    "# Q11. Using pen & Paper write the internal mechanism for sum operation using  reduce function on this given\n",
    "# list:[47,11,42,13];\n",
    "# Ans. (Answer Photo Link is Attached)"
   ]
  },
  {
   "cell_type": "markdown",
   "id": "96c47846-0f3c-464f-b37e-dcdea15989d8",
   "metadata": {},
   "source": [
    "# Practical Questions:"
   ]
  },
  {
   "cell_type": "code",
   "execution_count": 8,
   "id": "6dbda131-c737-4b7a-9030-45f9659263d8",
   "metadata": {},
   "outputs": [
    {
     "name": "stdin",
     "output_type": "stream",
     "text": [
      "Enter Numbers Separated by Space 55 14 20 53\n"
     ]
    },
    {
     "name": "stdout",
     "output_type": "stream",
     "text": [
      "Sum of Even Numbers is 34\n"
     ]
    }
   ],
   "source": [
    "# Q1. Write a Python function that takes a list of numbers as input and returns the sum of all even numbers in the list.\n",
    "#Code :\n",
    "def sum_even(num_list):\n",
    "    num_sum = 0\n",
    "    for i in num_list:\n",
    "        if i%2 == 0:\n",
    "            num_sum = num_sum + i\n",
    "    return num_sum\n",
    "\n",
    "user_input = input(\"Enter Numbers Separated by Space\")\n",
    "num_list = []\n",
    "sum = 0\n",
    "for num in user_input.split():\n",
    "    num_list.append(int(num))\n",
    "print(\"Sum of Even Numbers is\", sum_even(num_list))"
   ]
  },
  {
   "cell_type": "code",
   "execution_count": 9,
   "id": "8f582081-f3f2-4b82-b7ec-2e3bc26939dc",
   "metadata": {},
   "outputs": [
    {
     "name": "stdin",
     "output_type": "stream",
     "text": [
      "Enter Any Word Obaidullah\n"
     ]
    },
    {
     "data": {
      "text/plain": [
       "'halludiabO'"
      ]
     },
     "execution_count": 9,
     "metadata": {},
     "output_type": "execute_result"
    }
   ],
   "source": [
    "# Q2. Create a Python function that accepts a string and returns the reverse of that string.\n",
    "#Code :\n",
    "def string_rev(word):\n",
    "    new_word = \"\"\n",
    "    word_len = len(word)\n",
    "    word_len = word_len - 1\n",
    "    for i in range(word_len, -1, -1):\n",
    "        new_word = new_word + word[i]\n",
    "    return new_word\n",
    "\n",
    "word = input(\"Enter Any Word\")\n",
    "string_rev(word)"
   ]
  },
  {
   "cell_type": "code",
   "execution_count": 10,
   "id": "2e0837df-a838-4c0c-afcb-40e39b2eb478",
   "metadata": {},
   "outputs": [
    {
     "data": {
      "text/plain": [
       "[1, 4, 9, 16]"
      ]
     },
     "execution_count": 10,
     "metadata": {},
     "output_type": "execute_result"
    }
   ],
   "source": [
    "# Q3. Implement a Python function that takes a list of integers and returns a new list containing the squares of each number.\n",
    "#Code :\n",
    "def square(num_list):\n",
    "    square_list = []\n",
    "    for i in num_list:\n",
    "        square_list.append(i**2)\n",
    "    return square_list\n",
    "\n",
    "square([1, 2, 3, 4])"
   ]
  },
  {
   "cell_type": "code",
   "execution_count": 11,
   "id": "cfacce64-105d-4cc4-bfa6-e2933cf6e32c",
   "metadata": {},
   "outputs": [
    {
     "name": "stdin",
     "output_type": "stream",
     "text": [
      "Enter any Number 83\n"
     ]
    },
    {
     "name": "stdout",
     "output_type": "stream",
     "text": [
      "The Number is a Prime\n"
     ]
    }
   ],
   "source": [
    "# Q4. Write a Python function that checks if a given number is prime or not from 1 to 200.\n",
    "#Code :\n",
    "def check_prime(num):\n",
    "    if num > 1 and num < 201:\n",
    "        for i in range(2, num):\n",
    "            if num % i == 0:\n",
    "                return \"The Number is Not a Prime\"\n",
    "        return \"The Number is a Prime\"\n",
    "    else:\n",
    "        return \"Please Enter Number Between 1 and 200\"\n",
    "\n",
    "num = int(input(\"Enter any Number\"))\n",
    "print(check_prime(num))"
   ]
  },
  {
   "cell_type": "code",
   "execution_count": 12,
   "id": "c76e14a0-68b2-46ed-85b1-75f52da53772",
   "metadata": {},
   "outputs": [
    {
     "name": "stdin",
     "output_type": "stream",
     "text": [
      "Enter the Number of Terms 5\n"
     ]
    },
    {
     "name": "stdout",
     "output_type": "stream",
     "text": [
      "Fibonacci sequence up to 5 terms:\n",
      "0 1 1 2 3 "
     ]
    }
   ],
   "source": [
    "# Q5. Create an iterator class in Python that generates the Fibonacci sequence up to a specified number of terms.\n",
    "#Code :\n",
    "class FibonacciIterator:\n",
    "    def __init__(self, terms):\n",
    "        self.terms = terms\n",
    "        self.current = 0\n",
    "        self.next_value = 1\n",
    "        self.count = 0\n",
    "\n",
    "    def __iter__(self):\n",
    "        return self\n",
    "\n",
    "    def __next__(self):\n",
    "        if self.count < self.terms:\n",
    "            current_fib = self.current\n",
    "            self.current, self.next_value = self.next_value, self.current + self.next_value\n",
    "            self.count += 1\n",
    "            return current_fib\n",
    "        else:\n",
    "            raise StopIteration\n",
    "\n",
    "terms = int(input(\"Enter the Number of Terms\"))\n",
    "fibonacci_sequence = FibonacciIterator(terms)\n",
    "\n",
    "print(f\"Fibonacci sequence up to {terms} terms:\")\n",
    "for number in fibonacci_sequence:\n",
    "    print(number, end=' ')"
   ]
  },
  {
   "cell_type": "code",
   "execution_count": 13,
   "id": "3b66e5d0-4634-4ade-a9f1-176c31bcf092",
   "metadata": {},
   "outputs": [
    {
     "name": "stdout",
     "output_type": "stream",
     "text": [
      "Powers of 2 up to 2^10:\n",
      "1 2 4 8 16 32 64 128 256 512 1024 "
     ]
    }
   ],
   "source": [
    "# Q6. Write a generator function in Python that yields the powers of 2 up to a given exponent.\n",
    "#Code :\n",
    "def powers_of_two(exponent):\n",
    "    for exp in range(exponent + 1):\n",
    "        yield 2 ** exp\n",
    "\n",
    "exponent = 10\n",
    "print(f\"Powers of 2 up to 2^{exponent}:\")\n",
    "\n",
    "for power in powers_of_two(exponent):\n",
    "    print(power, end=' ')\n"
   ]
  },
  {
   "cell_type": "code",
   "execution_count": 20,
   "id": "adc2c81b-1ac9-4a66-80a7-69cc6790909a",
   "metadata": {},
   "outputs": [
    {
     "name": "stdout",
     "output_type": "stream",
     "text": [
      "Reading lines from the file:\n",
      "Note :- This File is Required for Practical Questions (Question Number 7)\n",
      "Hello Sir/Madam,\n",
      "How are you ?\n",
      "This is my Assignment.\n"
     ]
    }
   ],
   "source": [
    "# Q7. Implement a generator function that reads a file line by line and yields each line as a string.\n",
    "#Code :\n",
    "def read_file_line_by_line(file_path):\n",
    "    \"\"\"Generator that reads a file line by line.\"\"\"\n",
    "    try:\n",
    "        with open(file_path, 'r') as file:\n",
    "            for line in file:\n",
    "                yield line.strip()  # Yield each line, removing leading/trailing whitespace\n",
    "    except FileNotFoundError:\n",
    "        print(f\"Error: The file '{file_path}' was not found.\")\n",
    "    except IOError:\n",
    "        print(f\"Error: An IOError occurred while reading the file '{file_path}'.\")\n",
    "\n",
    "file_path = 'Module5-Example.txt'\n",
    "print(\"Reading lines from the file:\")\n",
    "for line in read_file_line_by_line(file_path):\n",
    "    print(line)"
   ]
  },
  {
   "cell_type": "code",
   "execution_count": 15,
   "id": "95d69905-ddf2-4331-bd7f-a611df8dcc2b",
   "metadata": {},
   "outputs": [
    {
     "name": "stdout",
     "output_type": "stream",
     "text": [
      "Sorted list of tuples based on the second element:\n",
      "[(3, 'Apple', 'Red'), (1, 'Banana', 'Yellow'), (4, 'Grape', 'Green'), (2, 'Orange', 'Orange')]\n"
     ]
    }
   ],
   "source": [
    "# Q8. Use a lambda function in Python to sort a list of tuples based on the second element of each tuple.\n",
    "#Code :\n",
    "data = [(1, 'Banana', 'Yellow'), (3, 'Apple', 'Red'), (2, 'Orange', 'Orange'), (4, 'Grape', 'Green')]\n",
    "\n",
    "# Sorting the list of tuples based on the second element of each tuple\n",
    "sorted_data = sorted(data, key=lambda x: x[1])\n",
    "\n",
    "# Output the sorted list\n",
    "print(\"Sorted list of tuples based on the second element:\")\n",
    "print(sorted_data)"
   ]
  },
  {
   "cell_type": "code",
   "execution_count": 16,
   "id": "4ea4d771-9b6f-451e-b27e-5a0247927afc",
   "metadata": {},
   "outputs": [
    {
     "name": "stdout",
     "output_type": "stream",
     "text": [
      "Temperatures in Celsius: [0, 20, 37, 100, 40]\n",
      "Temperatures in Fahrenheit: [32.0, 68.0, 98.6, 212.0, 104.0]\n"
     ]
    }
   ],
   "source": [
    "# Q9. Write a Python program that uses `map()` to convert a list of temperatures from Celsius to Fahrenheit.\n",
    "#Code :\n",
    "def celsius_to_fahrenheit(celsius):\n",
    "    return (celsius * 9/5) + 32\n",
    "\n",
    "celsius_temps = [0, 20, 37, 100, 40]\n",
    "\n",
    "fahrenheit_temps = list(map(celsius_to_fahrenheit, celsius_temps))\n",
    "\n",
    "# Output the results\n",
    "print(\"Temperatures in Celsius:\", celsius_temps)\n",
    "print(\"Temperatures in Fahrenheit:\", fahrenheit_temps)"
   ]
  },
  {
   "cell_type": "code",
   "execution_count": 17,
   "id": "c0d7f34c-b668-4a33-b5b3-2d5ebdb4df5d",
   "metadata": {},
   "outputs": [
    {
     "name": "stdout",
     "output_type": "stream",
     "text": [
      "Original string: I am Learning Data Science from PWSkills\n",
      "String without vowels:  m Lrnng Dt Scnc frm PWSklls\n"
     ]
    }
   ],
   "source": [
    "# Q10. Create a Python program that uses `filter()` to remove all the vowels from a given string.\n",
    "#Code :\n",
    "def is_not_vowel(char):\n",
    "    vowels = 'aeiouAEIOU'\n",
    "    return char not in vowels\n",
    "\n",
    "input_string = \"I am Learning Data Science from PWSkills\"\n",
    "\n",
    "filtered_string = ''.join(filter(is_not_vowel, input_string))\n",
    "\n",
    "print(\"Original string:\", input_string)\n",
    "print(\"String without vowels:\", filtered_string)\n"
   ]
  },
  {
   "cell_type": "code",
   "execution_count": 18,
   "id": "d46bf452-5ece-4b2e-ab03-212a88e5ca4a",
   "metadata": {},
   "outputs": [
    {
     "name": "stdout",
     "output_type": "stream",
     "text": [
      "[(34587, 163.8), (98762, 284.0), (77226, 108.85000000000001), (88112, 84.97)]\n"
     ]
    }
   ],
   "source": [
    "#Q 11. Imagine an accounting routine used in a book shop. It works on a list with sublists, which look like this:\n",
    "'''\n",
    "Order Number     Book Title and Author                Quantity    Price per Item\n",
    "34587            Learning Python, Mark Lutz            4                 40.95\n",
    "98762            Programming Python, Mark Lutz         5                 56.80\n",
    "77226            Head First Python, Paul Barry         3                 32.95\n",
    "88112            Einfuhrung in Python3, Bernd Klein    3                 24.99\n",
    "\n",
    "Write a Python program, which returns a list with 2-tuples. Each tuple consists of the order number and the\n",
    "product of the price per item and the quantity. The product should be increased by 10,- € if the value of the\n",
    "order is smaller than 100,00 €.\n",
    "\n",
    "Write a Python program using lambda and map.\n",
    "'''\n",
    "\n",
    "#Code :\n",
    "# The list of orders\n",
    "orders = [\n",
    "    (34587, \"Learning Python, Mark Lutz\", 4, 40.95),\n",
    "    (98762, \"Programming Python, Mark Lutz\", 5, 56.80),\n",
    "    (77226, \"Head First Python, Paul Barry\", 3, 32.95),\n",
    "    (88112, \"Einfuhrung in Python3, Bernd Klein\", 3, 24.99),\n",
    "]\n",
    "\n",
    "# Function to calculate total price and apply discount if needed\n",
    "def calculate_total(order):\n",
    "    order_number, _, quantity, price_per_item = order\n",
    "    total = quantity * price_per_item\n",
    "    # Apply additional €10 if total is less than €100\n",
    "    if total < 100:\n",
    "        total += 10\n",
    "    return (order_number, total)\n",
    "\n",
    "# Use map with lambda to process the orders\n",
    "result = list(map(lambda order: calculate_total(order), orders))\n",
    "\n",
    "# Print the result\n",
    "print(result)"
   ]
  }
 ],
 "metadata": {
  "kernelspec": {
   "display_name": "Python 3 (ipykernel)",
   "language": "python",
   "name": "python3"
  },
  "language_info": {
   "codemirror_mode": {
    "name": "ipython",
    "version": 3
   },
   "file_extension": ".py",
   "mimetype": "text/x-python",
   "name": "python",
   "nbconvert_exporter": "python",
   "pygments_lexer": "ipython3",
   "version": "3.12.6"
  }
 },
 "nbformat": 4,
 "nbformat_minor": 5
}
