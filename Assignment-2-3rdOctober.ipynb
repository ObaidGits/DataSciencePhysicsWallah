{
 "cells": [
  {
   "cell_type": "markdown",
   "id": "09f5a72d-f6ae-4f56-ba79-81eac3197cfc",
   "metadata": {},
   "source": [
    "# Assignmnt 3rd October"
   ]
  },
  {
   "cell_type": "markdown",
   "id": "c3ac7cd1-af10-4d5c-917d-6f0aaaad7a64",
   "metadata": {},
   "source": [
    "#### Q1) Explain the key features of Python that make it a popular choice for programming\n",
    "#### Ans) Key features of Python that make it popular:\n",
    "Easy to Learn and Use: Python has a simple syntax, making it beginner-friendly.\n",
    "Interpreted Language: Python executes code line-by-line, enabling easier debugging.\n",
    "Dynamically Typed: No need to declare variable types, as they are determined at runtime.\n",
    "Cross-Platform: Python works on various platforms like Windows, Mac, and Linux.\n",
    "Extensive Libraries: A rich set of libraries and frameworks (e.g., NumPy, Pandas, Django).\n",
    "Community Support: A large and active developer community provides extensive resources.\n",
    "Object-Oriented: Supports OOP principles like inheritance and polymorphism.\n",
    "Versatile: Suitable for web development, data analysis, automation, AI/ML, etc."
   ]
  },
  {
   "cell_type": "code",
   "execution_count": 11,
   "id": "3cad38af-4acc-400f-9e3c-97847fa87414",
   "metadata": {},
   "outputs": [
    {
     "name": "stdout",
     "output_type": "stream",
     "text": [
      "Hello PwSKills\n"
     ]
    }
   ],
   "source": [
    "# Q2) Describe the role of predefined keywords in Python and provide examples of how they are used in a program.\n",
    "# Ans) Predefined keywords in Python are reserved words that have special meanings and are used to define the syntax and structure of Python programs. You cannot use them as variable names, function names, or identifiers. They play roles in controlling program flow, defining data types, etc.\n",
    "'''\n",
    "if, else, elif: Used for conditional statements.\n",
    "for, while: Used for loops.\n",
    "'''\n",
    "# Code Examples:\n",
    "if(True):\n",
    "    print('Hello PwSKills')\n",
    "else:\n",
    "    print('Data Science')"
   ]
  },
  {
   "cell_type": "markdown",
   "id": "d1b3407c-221a-4bc7-9d9e-7be708f1f97b",
   "metadata": {},
   "source": [
    "#### Q3) Compare and contrast mutable and immutable objects in Python with examples.\n",
    "#### Ans) In Python, objects can be mutable or immutable, which affects whether their value can be changed after creation.\n",
    "Mutable Objects:\n",
    "Can be changed after creation.\n",
    "Example: Lists, dictionaries, sets.\n",
    "#### Code Example :\n",
    "my_list = [1, 2, 3]\n",
    "my_list[0] = 10  # List is modified\n",
    "print(my_list)   # Output: [10, 2, 3]\n",
    "\n",
    "Immutable Objects:\n",
    "Cannot be changed once created.\n",
    "Example: Strings, tuples, integers.\n",
    "#### Code Example :\n",
    "my_string = \"Hello\"\n",
    "my_string[0] = \"J\"  # Raises TypeError (cannot modify a string)\n",
    "\n",
    "Comparison:\n",
    "Mutable: Allows changes in place without creating new objects (e.g., lists).\n",
    "Immutable: Any change results in a new object being created (e.g., strings, tuples)."
   ]
  },
  {
   "cell_type": "markdown",
   "id": "92637b33-d7ee-4f0a-99b9-4c35d9af9ede",
   "metadata": {},
   "source": [
    "#### Q4) Discuss the different types of operators in Python and provide examples of how they are used.\n",
    "#### Ans) Python has several types of operators that perform operations on variables and values. These include arithmetic, comparison, logical, assignment, bitwise, membership, and identity operators.\n",
    "\n",
    "Arithmetic operators include + for addition, - for subtraction, * for multiplication, / for division, // for floor division, % for modulus, and ** for exponentiation.\n",
    "#### For example, x + y adds two numbers, and x ** 2 raises x to the power of 2.\n",
    "\n",
    "Comparison operators include == for equality, != for inequality, > for greater than, < for less than, >= for greater than or equal to, and <= for less than or equal to. These are used to compare two values.\n",
    "#### For example, x == y checks if x is equal to y, and x > y checks if x is greater than y.\n",
    "\n",
    "Logical operators are and, or, and not, which combine conditional statements.\n",
    "#### For example, x > 5 and y < 10 returns True if both conditions are true.\n",
    "\n",
    "Assignment operators like =, +=, -=, *= are used to assign values to variables.\n",
    "#### For example, x += 3 is shorthand for x = x + 3.\n",
    "\n",
    "Bitwise operators like & (AND), | (OR), ^ (XOR), ~ (NOT), << (left shift), and >> (right shift) operate on binary numbers.\n",
    "#### For example, x & y performs a bitwise AND on x and y.\n",
    "\n",
    "Membership operators in and not in check for membership in sequences.\n",
    "#### For example, \"a\" in \"apple\" returns True if \"a\" is present in \"apple\".\n",
    "\n",
    "Identity operators is and is not check whether two variables point to the same object in memory.\n",
    "For example, x is y returns True if x and y refer to the same object.\n",
    "\n",
    "Each operator category serves a different purpose, helping perform various tasks in Python programs efficiently."
   ]
  },
  {
   "cell_type": "code",
   "execution_count": 7,
   "id": "61fe18d8-a9ce-4c15-998a-2bb9b17fd2c8",
   "metadata": {},
   "outputs": [
    {
     "name": "stdout",
     "output_type": "stream",
     "text": [
      "7.5\n",
      "120\n",
      "100.0\n",
      "100\n"
     ]
    }
   ],
   "source": [
    "# Q5) Explain the concept of type casting in Python with examples.\n",
    "# Ans) Type casting in Python refers to converting one data type into another. This is useful when you need to perform operations on variables that are of different types. Python provides both implicit and explicit type casting.\n",
    "'''\n",
    "Implicit Type Casting:\n",
    "Python automatically converts one data type to another during an operation without the programmer's intervention. This typically happens in operations involving mixed types where Python converts lower types to higher types (e.g., int to float) to avoid data loss.\n",
    "'''\n",
    "#### Code Example :\n",
    "x = 5   # int\n",
    "y = 2.5 # float\n",
    "result = x + y  # Python converts x to float\n",
    "print(result)   # Output: 7.5\n",
    "\n",
    "#In explicit type casting, you manually convert one data type into another using functions like int(), float(), str(), list(), etc.\n",
    "\n",
    "#### Code Example :\n",
    "num_str = \"100\"\n",
    "num_int = int(num_str)  # Converts string to integer\n",
    "print(num_int + 20)     # Output: 120\n",
    "\n",
    "num_float = float(num_int)  # Converts integer to float\n",
    "print(num_float)            # Output: 100.0\n",
    "\n",
    "num_str_again = str(num_int)  # Converts integer back to string\n",
    "print(num_str_again)          # Output: '100'"
   ]
  },
  {
   "cell_type": "code",
   "execution_count": 3,
   "id": "a6b6b7f3-da35-4159-9082-b9f261446597",
   "metadata": {},
   "outputs": [
    {
     "name": "stdout",
     "output_type": "stream",
     "text": [
      "You are an adult.\n"
     ]
    }
   ],
   "source": [
    "# Q6) How do conditional statements work in Python? Illustrate with examples.\n",
    "# Ans) Conditional statements in Python allow the program to execute certain blocks of code based on whether a condition is true or false. The main conditional statements are if, elif (else if), and else.\n",
    "'''\n",
    "if: Evaluates a condition; if true, it executes the block of code.\n",
    "elif: Provides additional conditions if the previous if condition is false.\n",
    "else: Executes a block of code if all previous conditions are false.\n",
    "'''\n",
    "\n",
    "# Code Example :\n",
    "age = 20\n",
    "if age < 18:\n",
    "    print(\"You are a minor.\")\n",
    "elif age == 18:\n",
    "    print(\"You just turned 18!\")\n",
    "else:\n",
    "    print(\"You are an adult.\")"
   ]
  },
  {
   "cell_type": "code",
   "execution_count": 6,
   "id": "40fce63e-9ad4-4099-8ae5-92ad55346392",
   "metadata": {},
   "outputs": [
    {
     "name": "stdout",
     "output_type": "stream",
     "text": [
      "apple\n",
      "banana\n",
      "cherry\n",
      "1\n",
      "2\n",
      "3\n",
      "4\n",
      "5\n",
      "0\n",
      "1\n",
      "2\n",
      "3\n",
      "4\n"
     ]
    }
   ],
   "source": [
    "# Q7) Describe the different types of loops in Python and their use cases with examples.\n",
    "# Ans) For Loop:\n",
    "'''\n",
    "A for loop is used to iterate over a sequence (such as a list, tuple, string, or range) and execute a block of code for each element in the sequence.\n",
    "Use case: When you know the number of iterations in advance or want to loop through a collection.\n",
    "'''\n",
    "# Code Example:\n",
    "fruits = [\"apple\", \"banana\", \"cherry\"]\n",
    "for fruit in fruits:\n",
    "    print(fruit)\n",
    "\n",
    "'''\n",
    "While Loop:\n",
    "A while loop runs as long as the specified condition is true. It is used when the number of iterations is not known in advance, and the loop needs to run until a certain condition becomes false.\n",
    "\n",
    "Use case: When you want to repeat an action until a condition changes.\n",
    "'''\n",
    "#Code Example \n",
    "count = 1\n",
    "while count <= 5:\n",
    "    print(count)\n",
    "    count += 1\n",
    "'''\n",
    "Break and Continue:\n",
    "break: Exits the loop entirely.\n",
    "continue: Skips the current iteration and continues with the next one.\n",
    "'''\n",
    "# Code Example\n",
    "for i in range(10):\n",
    "    if i == 5:\n",
    "        break\n",
    "    print(i)\n"
   ]
  },
  {
   "cell_type": "code",
   "execution_count": null,
   "id": "d830107c-2b0e-4fc7-ad64-108e28148d5f",
   "metadata": {},
   "outputs": [],
   "source": []
  }
 ],
 "metadata": {
  "kernelspec": {
   "display_name": "Python 3 (ipykernel)",
   "language": "python",
   "name": "python3"
  },
  "language_info": {
   "codemirror_mode": {
    "name": "ipython",
    "version": 3
   },
   "file_extension": ".py",
   "mimetype": "text/x-python",
   "name": "python",
   "nbconvert_exporter": "python",
   "pygments_lexer": "ipython3",
   "version": "3.12.6"
  }
 },
 "nbformat": 4,
 "nbformat_minor": 5
}
